{
  "cells": [
    {
      "cell_type": "markdown",
      "metadata": {
        "id": "AJBNUFnYihOV"
      },
      "source": [
        "### Dependencies"
      ]
    },
    {
      "cell_type": "code",
      "execution_count": 2,
      "metadata": {
        "colab": {
          "base_uri": "https://localhost:8080/"
        },
        "id": "QwoH-mG46JJM",
        "outputId": "db0b018e-f065-434b-b370-5637d7439ed5"
      },
      "outputs": [
        {
          "output_type": "stream",
          "name": "stdout",
          "text": [
            "Collecting datasets\n",
            "  Downloading datasets-2.21.0-py3-none-any.whl.metadata (21 kB)\n",
            "Requirement already satisfied: filelock in /usr/local/lib/python3.10/dist-packages (from datasets) (3.15.4)\n",
            "Requirement already satisfied: numpy>=1.17 in /usr/local/lib/python3.10/dist-packages (from datasets) (1.26.4)\n",
            "Collecting pyarrow>=15.0.0 (from datasets)\n",
            "  Downloading pyarrow-17.0.0-cp310-cp310-manylinux_2_28_x86_64.whl.metadata (3.3 kB)\n",
            "Collecting dill<0.3.9,>=0.3.0 (from datasets)\n",
            "  Downloading dill-0.3.8-py3-none-any.whl.metadata (10 kB)\n",
            "Requirement already satisfied: pandas in /usr/local/lib/python3.10/dist-packages (from datasets) (2.1.4)\n",
            "Requirement already satisfied: requests>=2.32.2 in /usr/local/lib/python3.10/dist-packages (from datasets) (2.32.3)\n",
            "Requirement already satisfied: tqdm>=4.66.3 in /usr/local/lib/python3.10/dist-packages (from datasets) (4.66.5)\n",
            "Collecting xxhash (from datasets)\n",
            "  Downloading xxhash-3.5.0-cp310-cp310-manylinux_2_17_x86_64.manylinux2014_x86_64.whl.metadata (12 kB)\n",
            "Collecting multiprocess (from datasets)\n",
            "  Downloading multiprocess-0.70.16-py310-none-any.whl.metadata (7.2 kB)\n",
            "Requirement already satisfied: fsspec<=2024.6.1,>=2023.1.0 in /usr/local/lib/python3.10/dist-packages (from fsspec[http]<=2024.6.1,>=2023.1.0->datasets) (2024.6.1)\n",
            "Requirement already satisfied: aiohttp in /usr/local/lib/python3.10/dist-packages (from datasets) (3.10.5)\n",
            "Requirement already satisfied: huggingface-hub>=0.21.2 in /usr/local/lib/python3.10/dist-packages (from datasets) (0.24.6)\n",
            "Requirement already satisfied: packaging in /usr/local/lib/python3.10/dist-packages (from datasets) (24.1)\n",
            "Requirement already satisfied: pyyaml>=5.1 in /usr/local/lib/python3.10/dist-packages (from datasets) (6.0.2)\n",
            "Requirement already satisfied: aiohappyeyeballs>=2.3.0 in /usr/local/lib/python3.10/dist-packages (from aiohttp->datasets) (2.4.0)\n",
            "Requirement already satisfied: aiosignal>=1.1.2 in /usr/local/lib/python3.10/dist-packages (from aiohttp->datasets) (1.3.1)\n",
            "Requirement already satisfied: attrs>=17.3.0 in /usr/local/lib/python3.10/dist-packages (from aiohttp->datasets) (24.2.0)\n",
            "Requirement already satisfied: frozenlist>=1.1.1 in /usr/local/lib/python3.10/dist-packages (from aiohttp->datasets) (1.4.1)\n",
            "Requirement already satisfied: multidict<7.0,>=4.5 in /usr/local/lib/python3.10/dist-packages (from aiohttp->datasets) (6.0.5)\n",
            "Requirement already satisfied: yarl<2.0,>=1.0 in /usr/local/lib/python3.10/dist-packages (from aiohttp->datasets) (1.9.4)\n",
            "Requirement already satisfied: async-timeout<5.0,>=4.0 in /usr/local/lib/python3.10/dist-packages (from aiohttp->datasets) (4.0.3)\n",
            "Requirement already satisfied: typing-extensions>=3.7.4.3 in /usr/local/lib/python3.10/dist-packages (from huggingface-hub>=0.21.2->datasets) (4.12.2)\n",
            "Requirement already satisfied: charset-normalizer<4,>=2 in /usr/local/lib/python3.10/dist-packages (from requests>=2.32.2->datasets) (3.3.2)\n",
            "Requirement already satisfied: idna<4,>=2.5 in /usr/local/lib/python3.10/dist-packages (from requests>=2.32.2->datasets) (3.8)\n",
            "Requirement already satisfied: urllib3<3,>=1.21.1 in /usr/local/lib/python3.10/dist-packages (from requests>=2.32.2->datasets) (2.0.7)\n",
            "Requirement already satisfied: certifi>=2017.4.17 in /usr/local/lib/python3.10/dist-packages (from requests>=2.32.2->datasets) (2024.8.30)\n",
            "Requirement already satisfied: python-dateutil>=2.8.2 in /usr/local/lib/python3.10/dist-packages (from pandas->datasets) (2.8.2)\n",
            "Requirement already satisfied: pytz>=2020.1 in /usr/local/lib/python3.10/dist-packages (from pandas->datasets) (2024.1)\n",
            "Requirement already satisfied: tzdata>=2022.1 in /usr/local/lib/python3.10/dist-packages (from pandas->datasets) (2024.1)\n",
            "Requirement already satisfied: six>=1.5 in /usr/local/lib/python3.10/dist-packages (from python-dateutil>=2.8.2->pandas->datasets) (1.16.0)\n",
            "Downloading datasets-2.21.0-py3-none-any.whl (527 kB)\n",
            "\u001b[2K   \u001b[90m━━━━━━━━━━━━━━━━━━━━━━━━━━━━━━━━━━━━━━━━\u001b[0m \u001b[32m527.3/527.3 kB\u001b[0m \u001b[31m37.7 MB/s\u001b[0m eta \u001b[36m0:00:00\u001b[0m\n",
            "\u001b[?25hDownloading dill-0.3.8-py3-none-any.whl (116 kB)\n",
            "\u001b[2K   \u001b[90m━━━━━━━━━━━━━━━━━━━━━━━━━━━━━━━━━━━━━━━━\u001b[0m \u001b[32m116.3/116.3 kB\u001b[0m \u001b[31m12.9 MB/s\u001b[0m eta \u001b[36m0:00:00\u001b[0m\n",
            "\u001b[?25hDownloading pyarrow-17.0.0-cp310-cp310-manylinux_2_28_x86_64.whl (39.9 MB)\n",
            "\u001b[2K   \u001b[90m━━━━━━━━━━━━━━━━━━━━━━━━━━━━━━━━━━━━━━━━\u001b[0m \u001b[32m39.9/39.9 MB\u001b[0m \u001b[31m56.6 MB/s\u001b[0m eta \u001b[36m0:00:00\u001b[0m\n",
            "\u001b[?25hDownloading multiprocess-0.70.16-py310-none-any.whl (134 kB)\n",
            "\u001b[2K   \u001b[90m━━━━━━━━━━━━━━━━━━━━━━━━━━━━━━━━━━━━━━━━\u001b[0m \u001b[32m134.8/134.8 kB\u001b[0m \u001b[31m14.1 MB/s\u001b[0m eta \u001b[36m0:00:00\u001b[0m\n",
            "\u001b[?25hDownloading xxhash-3.5.0-cp310-cp310-manylinux_2_17_x86_64.manylinux2014_x86_64.whl (194 kB)\n",
            "\u001b[2K   \u001b[90m━━━━━━━━━━━━━━━━━━━━━━━━━━━━━━━━━━━━━━━━\u001b[0m \u001b[32m194.1/194.1 kB\u001b[0m \u001b[31m20.3 MB/s\u001b[0m eta \u001b[36m0:00:00\u001b[0m\n",
            "\u001b[?25hInstalling collected packages: xxhash, pyarrow, dill, multiprocess, datasets\n",
            "  Attempting uninstall: pyarrow\n",
            "    Found existing installation: pyarrow 14.0.2\n",
            "    Uninstalling pyarrow-14.0.2:\n",
            "      Successfully uninstalled pyarrow-14.0.2\n",
            "\u001b[31mERROR: pip's dependency resolver does not currently take into account all the packages that are installed. This behaviour is the source of the following dependency conflicts.\n",
            "cudf-cu12 24.4.1 requires pyarrow<15.0.0a0,>=14.0.1, but you have pyarrow 17.0.0 which is incompatible.\n",
            "ibis-framework 8.0.0 requires pyarrow<16,>=2, but you have pyarrow 17.0.0 which is incompatible.\u001b[0m\u001b[31m\n",
            "\u001b[0mSuccessfully installed datasets-2.21.0 dill-0.3.8 multiprocess-0.70.16 pyarrow-17.0.0 xxhash-3.5.0\n",
            "Requirement already satisfied: numpy in /usr/local/lib/python3.10/dist-packages (1.26.4)\n",
            "Requirement already satisfied: soundfile in /usr/local/lib/python3.10/dist-packages (0.12.1)\n",
            "Requirement already satisfied: cffi>=1.0 in /usr/local/lib/python3.10/dist-packages (from soundfile) (1.17.0)\n",
            "Requirement already satisfied: pycparser in /usr/local/lib/python3.10/dist-packages (from cffi>=1.0->soundfile) (2.22)\n"
          ]
        }
      ],
      "source": [
        "!pip install datasets\n",
        "!pip install numpy soundfile"
      ]
    },
    {
      "cell_type": "code",
      "execution_count": 3,
      "metadata": {
        "id": "PUM1wA33f0jc"
      },
      "outputs": [],
      "source": [
        "from huggingface_hub import login\n",
        "\n",
        "from datasets import load_dataset, Dataset, DatasetDict\n",
        "from transformers import Wav2Vec2Processor, Wav2Vec2ForSequenceClassification, TrainingArguments, Trainer\n",
        "import pandas as pd\n",
        "import numpy as np\n",
        "import torchaudio"
      ]
    },
    {
      "cell_type": "markdown",
      "metadata": {
        "id": "YOHPcR7hipqF"
      },
      "source": [
        "### Load dataset"
      ]
    },
    {
      "cell_type": "code",
      "execution_count": 2,
      "metadata": {
        "colab": {
          "base_uri": "https://localhost:8080/",
          "height": 332,
          "referenced_widgets": [
            "ff655ab909794d659e5f3f60fcd47320",
            "1c211cb5c71c4c21b3a9145c8f87d59b",
            "c5da83a807b849158f4ff38e83ae97a6",
            "27d6604ee9874879a32ecc05d606615c",
            "fd5d49a38b004186964a34dfc2e86cad",
            "1c9ecd1e7bd8418ba0e779a98816f9ef",
            "633c77aa5f714e3287259454a24b089c",
            "8eda476054aa467b922bdb97841ea32d",
            "152f44395d0b4c699b59ea8a97f2ba57",
            "f15467cd76d54a6c9f241b1d63accf15",
            "24e6fc8364d84e0eaeb02dc3c14131a8",
            "a624daf7ebaa408082f8b2310f5ab213",
            "ac1e82a25fed42199dc7277fa972d4fe",
            "6dbdb42ca7de41e28dba55b1051412e4",
            "6d021126190c42f2bba8c54d5ab0be34",
            "bdfa1499122a475f984333d99d2c2afa",
            "09e95a261a324574a3faf43868cdedb0"
          ]
        },
        "id": "AP6CeQa67dC7",
        "outputId": "e79f8447-b181-4a5e-809f-3d9f4f5ed724"
      },
      "outputs": [
        {
          "output_type": "display_data",
          "data": {
            "text/plain": [
              "VBox(children=(HTML(value='<center> <img\\nsrc=https://huggingface.co/front/assets/huggingface_logo-noborder.sv…"
            ],
            "application/vnd.jupyter.widget-view+json": {
              "version_major": 2,
              "version_minor": 0,
              "model_id": "ff655ab909794d659e5f3f60fcd47320"
            }
          },
          "metadata": {}
        }
      ],
      "source": [
        "# Te pedirá ingresar tu token de autenticación de Hugging Face\n",
        "login()"
      ]
    },
    {
      "cell_type": "code",
      "execution_count": 82,
      "metadata": {
        "id": "lq0ZMXIx7oXy"
      },
      "outputs": [],
      "source": [
        "cv_1_train = load_dataset(\"mozilla-foundation/common_voice_6_1\", \"en\", split=\"train\")"
      ]
    },
    {
      "cell_type": "code",
      "execution_count": 83,
      "metadata": {
        "id": "sBeaojwW1wfc"
      },
      "outputs": [],
      "source": [
        "cv_1_test = load_dataset(\"mozilla-foundation/common_voice_6_1\", \"en\", split=\"test\")\n",
        "cv_1_validation = load_dataset(\"mozilla-foundation/common_voice_6_1\", \"en\", split=\"validation\")"
      ]
    },
    {
      "cell_type": "markdown",
      "metadata": {
        "id": "PO1kBdH4ir8E"
      },
      "source": [
        "### Preprocess dataset"
      ]
    },
    {
      "cell_type": "code",
      "execution_count": 97,
      "metadata": {
        "id": "712LEW0h18py"
      },
      "outputs": [],
      "source": [
        "train_df = cv_1_train.to_pandas()\n",
        "test_df = cv_1_test.to_pandas()\n",
        "validation_df = cv_1_validation.to_pandas()"
      ]
    },
    {
      "cell_type": "code",
      "execution_count": 98,
      "metadata": {
        "colab": {
          "base_uri": "https://localhost:8080/",
          "height": 241
        },
        "id": "vLbokMzx6Iqk",
        "outputId": "3dbbe571-3461-4c2e-a016-252f9a4cf7c5"
      },
      "outputs": [
        {
          "output_type": "execute_result",
          "data": {
            "text/plain": [
              "accent   gender\n",
              "england  female    741\n",
              "         male      741\n",
              "us       female    741\n",
              "         male      741\n",
              "Name: count, dtype: int64"
            ],
            "text/html": [
              "<div>\n",
              "<style scoped>\n",
              "    .dataframe tbody tr th:only-of-type {\n",
              "        vertical-align: middle;\n",
              "    }\n",
              "\n",
              "    .dataframe tbody tr th {\n",
              "        vertical-align: top;\n",
              "    }\n",
              "\n",
              "    .dataframe thead th {\n",
              "        text-align: right;\n",
              "    }\n",
              "</style>\n",
              "<table border=\"1\" class=\"dataframe\">\n",
              "  <thead>\n",
              "    <tr style=\"text-align: right;\">\n",
              "      <th></th>\n",
              "      <th></th>\n",
              "      <th>count</th>\n",
              "    </tr>\n",
              "    <tr>\n",
              "      <th>accent</th>\n",
              "      <th>gender</th>\n",
              "      <th></th>\n",
              "    </tr>\n",
              "  </thead>\n",
              "  <tbody>\n",
              "    <tr>\n",
              "      <th rowspan=\"2\" valign=\"top\">england</th>\n",
              "      <th>female</th>\n",
              "      <td>741</td>\n",
              "    </tr>\n",
              "    <tr>\n",
              "      <th>male</th>\n",
              "      <td>741</td>\n",
              "    </tr>\n",
              "    <tr>\n",
              "      <th rowspan=\"2\" valign=\"top\">us</th>\n",
              "      <th>female</th>\n",
              "      <td>741</td>\n",
              "    </tr>\n",
              "    <tr>\n",
              "      <th>male</th>\n",
              "      <td>741</td>\n",
              "    </tr>\n",
              "  </tbody>\n",
              "</table>\n",
              "</div><br><label><b>dtype:</b> int64</label>"
            ]
          },
          "metadata": {},
          "execution_count": 98
        }
      ],
      "source": [
        "### Equilibrar por Acento y Genero\n",
        "\n",
        "# Concatenar los DataFrames de train, validation y test\n",
        "# df = pd.concat([train_df, validation_df, test_df], ignore_index=True)\n",
        "\n",
        "df = train_df.sample(n=50000)\n",
        "\n",
        "# Filtrar por los valores de género (Male y Female) y por acento (US y England)\n",
        "df = df[df['gender'].isin(['male', 'female']) & df['accent'].isin(['us', 'england'])]\n",
        "\n",
        "# Contar el número de muestras por combinación de género y acento\n",
        "group_counts = df.groupby(['gender', 'accent']).size().reset_index(name='count')\n",
        "\n",
        "# Encontrar el número mínimo de muestras en los subgrupos\n",
        "min_count = group_counts['count'].min()\n",
        "\n",
        "# Filtrar y equilibrar el DataFrame por cada combinación de género y acento\n",
        "balanced_dfs = []\n",
        "for (gender, accent), group in df.groupby(['gender', 'accent']):\n",
        "    balanced_group = group.sample(n=min_count, random_state=42)\n",
        "    balanced_dfs.append(balanced_group)\n",
        "\n",
        "# Combinar los DataFrames equilibrados\n",
        "balanced_df = pd.concat(balanced_dfs, ignore_index=True)\n",
        "\n",
        "# Verificar el resultado\n",
        "balanced_df[['accent', 'gender']].value_counts()\n"
      ]
    },
    {
      "cell_type": "markdown",
      "source": [
        "Audio duration"
      ],
      "metadata": {
        "id": "lRuOFH5XFIuh"
      }
    },
    {
      "cell_type": "code",
      "source": [
        "import torchaudio\n",
        "\n",
        "# Función para obtener la duración del audio\n",
        "def get_audio_duration(row):\n",
        "    waveform, sample_rate = torchaudio.load(row['path'])\n",
        "    duration_seconds = waveform.size(1) / sample_rate  # Calcular la duración en segundos\n",
        "    return duration_seconds\n",
        "\n",
        "# Aplicar la función a cada fila del DataFrame balanceado\n",
        "balanced_df['duration'] = balanced_df.apply(get_audio_duration, axis=1)\n",
        "\n",
        "# Calcular la duración promedio de los audios\n",
        "average_duration = balanced_df['duration'].mean()\n",
        "\n",
        "# Mostrar la duración promedio\n",
        "print(f\"La duración promedio de los audios es de {average_duration:.2f} segundos.\")\n"
      ],
      "metadata": {
        "colab": {
          "base_uri": "https://localhost:8080/"
        },
        "id": "a8uKu6PlE1vC",
        "outputId": "270eb98d-184c-4ec2-a4dc-d51f0908d510"
      },
      "execution_count": 96,
      "outputs": [
        {
          "output_type": "stream",
          "name": "stdout",
          "text": [
            "La duración promedio de los audios es de 5.55 segundos.\n"
          ]
        }
      ]
    },
    {
      "cell_type": "code",
      "execution_count": 99,
      "metadata": {
        "colab": {
          "base_uri": "https://localhost:8080/"
        },
        "id": "b27T5SYU8Nvw",
        "outputId": "6b6b5452-ab54-4557-8c76-d710c4fe5d76"
      },
      "outputs": [
        {
          "output_type": "stream",
          "name": "stderr",
          "text": [
            "/usr/local/lib/python3.10/dist-packages/transformers/configuration_utils.py:364: UserWarning: Passing `gradient_checkpointing` to a config initialization is deprecated and will be removed in v5 Transformers. Using `model.gradient_checkpointing_enable()` instead, or if you are using the `Trainer` API, pass `gradient_checkpointing=True` in your `TrainingArguments`.\n",
            "  warnings.warn(\n",
            "/usr/local/lib/python3.10/dist-packages/transformers/tokenization_utils_base.py:1601: FutureWarning: `clean_up_tokenization_spaces` was not set. It will be set to `True` by default. This behavior will be depracted in transformers v4.45, and will be then set to `False` by default. For more details check this issue: https://github.com/huggingface/transformers/issues/31884\n",
            "  warnings.warn(\n"
          ]
        },
        {
          "output_type": "execute_result",
          "data": {
            "text/plain": [
              "DatasetDict({\n",
              "    train: Dataset({\n",
              "        features: ['accent', 'input_values', 'label'],\n",
              "        num_rows: 2371\n",
              "    })\n",
              "    test: Dataset({\n",
              "        features: ['accent', 'input_values', 'label'],\n",
              "        num_rows: 297\n",
              "    })\n",
              "    valid: Dataset({\n",
              "        features: ['accent', 'input_values', 'label'],\n",
              "        num_rows: 296\n",
              "    })\n",
              "})"
            ]
          },
          "metadata": {},
          "execution_count": 99
        }
      ],
      "source": [
        "### Equilibrar solamente por acento\n",
        "# df = cv_1_train.to_pandas()\n",
        "\n",
        "# # Filtrar acentos US y England\n",
        "# us_df = df[df['accent'] == 'us']\n",
        "# england_df = df[df['accent'] == 'england']\n",
        "\n",
        "# # Equilibrar los datasets (mismo número de muestras)\n",
        "# england_count = len(england_df)\n",
        "# us_df = us_df.sample(n=england_count, random_state=42)\n",
        "\n",
        "# # Combinar los datasets equilibrados\n",
        "# balanced_df = pd.concat([us_df, england_df])\n",
        "\n",
        "\n",
        "# ## Usar menos muestras de las que tenemos\n",
        "# balanced_df = balanced_df.sample(n=3000)\n",
        "\n",
        "# Cargar el procesador de Wav2Vec2 (solo una vez)\n",
        "processor = Wav2Vec2Processor.from_pretrained(\"facebook/wav2vec2-base\")\n",
        "\n",
        "# Modificar la función de procesamiento de audio\n",
        "def load_audio(row):\n",
        "    # Cargar el archivo de audio\n",
        "    waveform, sample_rate = torchaudio.load(row['path'])\n",
        "\n",
        "    # Resamplear si es necesario\n",
        "    if sample_rate != processor.feature_extractor.sampling_rate:\n",
        "        resampler = torchaudio.transforms.Resample(sample_rate, processor.feature_extractor.sampling_rate)\n",
        "        waveform = resampler(waveform)\n",
        "\n",
        "    # Definir la longitud máxima (por ejemplo, 32000 muestras, ajusta según la duración de tu audio)\n",
        "    max_length = int(processor.feature_extractor.sampling_rate * 6)  # Ejemplo: 2 segundos de audio\n",
        "\n",
        "    # Aplicar el preprocesamiento de Wav2Vec2 con padding y truncation\n",
        "    inputs = processor(waveform.squeeze().numpy(),\n",
        "                       sampling_rate=processor.feature_extractor.sampling_rate,\n",
        "                       return_tensors=\"pt\",\n",
        "                       padding=\"max_length\",  # Padding para un tamaño uniforme\n",
        "                       truncation=True,       # Truncar si la secuencia es demasiado larga\n",
        "                       max_length=max_length)  # Longitud máxima\n",
        "\n",
        "    # Retornar los valores de entrada procesados\n",
        "    return inputs.input_values[0].tolist()\n",
        "\n",
        "# Aplicar la función de carga y procesamiento del audio\n",
        "balanced_df['input_values'] = balanced_df.apply(load_audio, axis=1)\n",
        "\n",
        "\n",
        "# Convertir etiquetas de acento en números\n",
        "label2id = {'us': 0, 'england': 1}\n",
        "id2label = {v: k for k, v in label2id.items()}\n",
        "balanced_df['label'] = balanced_df['accent'].map(label2id)\n",
        "\n",
        "# Convertir DataFrame a Dataset de Hugging Face\n",
        "balanced_dataset = Dataset.from_pandas(balanced_df)\n",
        "\n",
        "# Seleccionar solo las columnas necesarias para el modelo\n",
        "balanced_dataset = balanced_dataset.remove_columns(['audio', 'path', 'up_votes', 'down_votes', 'age', 'gender', 'locale', 'segment', 'client_id', 'sentence'])\n",
        "if '__index_level_0__' in balanced_dataset.column_names:\n",
        "    balanced_dataset = balanced_dataset.remove_columns(['__index_level_0__'])\n",
        "\n",
        "\n",
        "# Dividir el dataset en entrenamiento, prueba y validación\n",
        "train_testvalid = balanced_dataset.train_test_split(test_size=0.2)\n",
        "test_valid = train_testvalid['test'].train_test_split(test_size=0.5)\n",
        "\n",
        "dataset = DatasetDict({\n",
        "    'train': train_testvalid['train'],\n",
        "    'test': test_valid['test'],\n",
        "    'valid': test_valid['train']\n",
        "})\n",
        "\n",
        "# Verificar la estructura del dataset final\n",
        "dataset\n"
      ]
    },
    {
      "cell_type": "markdown",
      "metadata": {
        "id": "K0fxaGukivGz"
      },
      "source": [
        "### Finetuning Wav2Vec"
      ]
    },
    {
      "cell_type": "code",
      "execution_count": 100,
      "metadata": {
        "colab": {
          "base_uri": "https://localhost:8080/",
          "height": 621
        },
        "id": "p6GpRSis8NyP",
        "outputId": "97237e58-78d3-4e42-b086-257a04881f62"
      },
      "outputs": [
        {
          "output_type": "stream",
          "name": "stderr",
          "text": [
            "/usr/local/lib/python3.10/dist-packages/transformers/configuration_utils.py:364: UserWarning: Passing `gradient_checkpointing` to a config initialization is deprecated and will be removed in v5 Transformers. Using `model.gradient_checkpointing_enable()` instead, or if you are using the `Trainer` API, pass `gradient_checkpointing=True` in your `TrainingArguments`.\n",
            "  warnings.warn(\n",
            "Some weights of Wav2Vec2ForSequenceClassification were not initialized from the model checkpoint at facebook/wav2vec2-base and are newly initialized: ['classifier.bias', 'classifier.weight', 'projector.bias', 'projector.weight', 'wav2vec2.encoder.pos_conv_embed.conv.parametrizations.weight.original0', 'wav2vec2.encoder.pos_conv_embed.conv.parametrizations.weight.original1']\n",
            "You should probably TRAIN this model on a down-stream task to be able to use it for predictions and inference.\n",
            "/usr/local/lib/python3.10/dist-packages/transformers/training_args.py:1525: FutureWarning: `evaluation_strategy` is deprecated and will be removed in version 4.46 of 🤗 Transformers. Use `eval_strategy` instead\n",
            "  warnings.warn(\n",
            "/usr/local/lib/python3.10/dist-packages/torch/utils/checkpoint.py:295: FutureWarning: `torch.cpu.amp.autocast(args...)` is deprecated. Please use `torch.amp.autocast('cpu', args...)` instead.\n",
            "  with torch.enable_grad(), device_autocast_ctx, torch.cpu.amp.autocast(**ctx.cpu_autocast_kwargs):  # type: ignore[attr-defined]\n"
          ]
        },
        {
          "output_type": "display_data",
          "data": {
            "text/plain": [
              "<IPython.core.display.HTML object>"
            ],
            "text/html": [
              "\n",
              "    <div>\n",
              "      \n",
              "      <progress value='314' max='447' style='width:300px; height:20px; vertical-align: middle;'></progress>\n",
              "      [314/447 08:24 < 03:35, 0.62 it/s, Epoch 2.10/3]\n",
              "    </div>\n",
              "    <table border=\"1\" class=\"dataframe\">\n",
              "  <thead>\n",
              " <tr style=\"text-align: left;\">\n",
              "      <th>Epoch</th>\n",
              "      <th>Training Loss</th>\n",
              "      <th>Validation Loss</th>\n",
              "      <th>Accuracy</th>\n",
              "    </tr>\n",
              "  </thead>\n",
              "  <tbody>\n",
              "    <tr>\n",
              "      <td>1</td>\n",
              "      <td>0.653800</td>\n",
              "      <td>0.689925</td>\n",
              "      <td>0.540541</td>\n",
              "    </tr>\n",
              "    <tr>\n",
              "      <td>2</td>\n",
              "      <td>0.696000</td>\n",
              "      <td>0.693112</td>\n",
              "      <td>0.540541</td>\n",
              "    </tr>\n",
              "  </tbody>\n",
              "</table><p>"
            ]
          },
          "metadata": {}
        },
        {
          "output_type": "error",
          "ename": "KeyboardInterrupt",
          "evalue": "",
          "traceback": [
            "\u001b[0;31m---------------------------------------------------------------------------\u001b[0m",
            "\u001b[0;31mKeyboardInterrupt\u001b[0m                         Traceback (most recent call last)",
            "\u001b[0;32m<ipython-input-100-7efa252e2e8e>\u001b[0m in \u001b[0;36m<cell line: 42>\u001b[0;34m()\u001b[0m\n\u001b[1;32m     40\u001b[0m )\n\u001b[1;32m     41\u001b[0m \u001b[0;34m\u001b[0m\u001b[0m\n\u001b[0;32m---> 42\u001b[0;31m \u001b[0mtrainer\u001b[0m\u001b[0;34m.\u001b[0m\u001b[0mtrain\u001b[0m\u001b[0;34m(\u001b[0m\u001b[0;34m)\u001b[0m\u001b[0;34m\u001b[0m\u001b[0;34m\u001b[0m\u001b[0m\n\u001b[0m",
            "\u001b[0;32m/usr/local/lib/python3.10/dist-packages/transformers/trainer.py\u001b[0m in \u001b[0;36mtrain\u001b[0;34m(self, resume_from_checkpoint, trial, ignore_keys_for_eval, **kwargs)\u001b[0m\n\u001b[1;32m   1936\u001b[0m                 \u001b[0mhf_hub_utils\u001b[0m\u001b[0;34m.\u001b[0m\u001b[0menable_progress_bars\u001b[0m\u001b[0;34m(\u001b[0m\u001b[0;34m)\u001b[0m\u001b[0;34m\u001b[0m\u001b[0;34m\u001b[0m\u001b[0m\n\u001b[1;32m   1937\u001b[0m         \u001b[0;32melse\u001b[0m\u001b[0;34m:\u001b[0m\u001b[0;34m\u001b[0m\u001b[0;34m\u001b[0m\u001b[0m\n\u001b[0;32m-> 1938\u001b[0;31m             return inner_training_loop(\n\u001b[0m\u001b[1;32m   1939\u001b[0m                 \u001b[0margs\u001b[0m\u001b[0;34m=\u001b[0m\u001b[0margs\u001b[0m\u001b[0;34m,\u001b[0m\u001b[0;34m\u001b[0m\u001b[0;34m\u001b[0m\u001b[0m\n\u001b[1;32m   1940\u001b[0m                 \u001b[0mresume_from_checkpoint\u001b[0m\u001b[0;34m=\u001b[0m\u001b[0mresume_from_checkpoint\u001b[0m\u001b[0;34m,\u001b[0m\u001b[0;34m\u001b[0m\u001b[0;34m\u001b[0m\u001b[0m\n",
            "\u001b[0;32m/usr/local/lib/python3.10/dist-packages/transformers/trainer.py\u001b[0m in \u001b[0;36m_inner_training_loop\u001b[0;34m(self, batch_size, args, resume_from_checkpoint, trial, ignore_keys_for_eval)\u001b[0m\n\u001b[1;32m   2234\u001b[0m \u001b[0;34m\u001b[0m\u001b[0m\n\u001b[1;32m   2235\u001b[0m             \u001b[0mstep\u001b[0m \u001b[0;34m=\u001b[0m \u001b[0;34m-\u001b[0m\u001b[0;36m1\u001b[0m\u001b[0;34m\u001b[0m\u001b[0;34m\u001b[0m\u001b[0m\n\u001b[0;32m-> 2236\u001b[0;31m             \u001b[0;32mfor\u001b[0m \u001b[0mstep\u001b[0m\u001b[0;34m,\u001b[0m \u001b[0minputs\u001b[0m \u001b[0;32min\u001b[0m \u001b[0menumerate\u001b[0m\u001b[0;34m(\u001b[0m\u001b[0mepoch_iterator\u001b[0m\u001b[0;34m)\u001b[0m\u001b[0;34m:\u001b[0m\u001b[0;34m\u001b[0m\u001b[0;34m\u001b[0m\u001b[0m\n\u001b[0m\u001b[1;32m   2237\u001b[0m                 \u001b[0mtotal_batched_samples\u001b[0m \u001b[0;34m+=\u001b[0m \u001b[0;36m1\u001b[0m\u001b[0;34m\u001b[0m\u001b[0;34m\u001b[0m\u001b[0m\n\u001b[1;32m   2238\u001b[0m \u001b[0;34m\u001b[0m\u001b[0m\n",
            "\u001b[0;32m/usr/local/lib/python3.10/dist-packages/accelerate/data_loader.py\u001b[0m in \u001b[0;36m__iter__\u001b[0;34m(self)\u001b[0m\n\u001b[1;32m    462\u001b[0m                 \u001b[0;32mif\u001b[0m \u001b[0mself\u001b[0m\u001b[0;34m.\u001b[0m\u001b[0mdevice\u001b[0m \u001b[0;32mis\u001b[0m \u001b[0;32mnot\u001b[0m \u001b[0;32mNone\u001b[0m\u001b[0;34m:\u001b[0m\u001b[0;34m\u001b[0m\u001b[0;34m\u001b[0m\u001b[0m\n\u001b[1;32m    463\u001b[0m                     \u001b[0mcurrent_batch\u001b[0m \u001b[0;34m=\u001b[0m \u001b[0msend_to_device\u001b[0m\u001b[0;34m(\u001b[0m\u001b[0mcurrent_batch\u001b[0m\u001b[0;34m,\u001b[0m \u001b[0mself\u001b[0m\u001b[0;34m.\u001b[0m\u001b[0mdevice\u001b[0m\u001b[0;34m,\u001b[0m \u001b[0mnon_blocking\u001b[0m\u001b[0;34m=\u001b[0m\u001b[0mself\u001b[0m\u001b[0;34m.\u001b[0m\u001b[0m_non_blocking\u001b[0m\u001b[0;34m)\u001b[0m\u001b[0;34m\u001b[0m\u001b[0;34m\u001b[0m\u001b[0m\n\u001b[0;32m--> 464\u001b[0;31m                 \u001b[0mnext_batch\u001b[0m \u001b[0;34m=\u001b[0m \u001b[0mnext\u001b[0m\u001b[0;34m(\u001b[0m\u001b[0mdataloader_iter\u001b[0m\u001b[0;34m)\u001b[0m\u001b[0;34m\u001b[0m\u001b[0;34m\u001b[0m\u001b[0m\n\u001b[0m\u001b[1;32m    465\u001b[0m                 \u001b[0;32mif\u001b[0m \u001b[0mbatch_index\u001b[0m \u001b[0;34m>=\u001b[0m \u001b[0mself\u001b[0m\u001b[0;34m.\u001b[0m\u001b[0mskip_batches\u001b[0m\u001b[0;34m:\u001b[0m\u001b[0;34m\u001b[0m\u001b[0;34m\u001b[0m\u001b[0m\n\u001b[1;32m    466\u001b[0m                     \u001b[0;32myield\u001b[0m \u001b[0mcurrent_batch\u001b[0m\u001b[0;34m\u001b[0m\u001b[0;34m\u001b[0m\u001b[0m\n",
            "\u001b[0;32m/usr/local/lib/python3.10/dist-packages/torch/utils/data/dataloader.py\u001b[0m in \u001b[0;36m__next__\u001b[0;34m(self)\u001b[0m\n\u001b[1;32m    628\u001b[0m                 \u001b[0;31m# TODO(https://github.com/pytorch/pytorch/issues/76750)\u001b[0m\u001b[0;34m\u001b[0m\u001b[0;34m\u001b[0m\u001b[0m\n\u001b[1;32m    629\u001b[0m                 \u001b[0mself\u001b[0m\u001b[0;34m.\u001b[0m\u001b[0m_reset\u001b[0m\u001b[0;34m(\u001b[0m\u001b[0;34m)\u001b[0m  \u001b[0;31m# type: ignore[call-arg]\u001b[0m\u001b[0;34m\u001b[0m\u001b[0;34m\u001b[0m\u001b[0m\n\u001b[0;32m--> 630\u001b[0;31m             \u001b[0mdata\u001b[0m \u001b[0;34m=\u001b[0m \u001b[0mself\u001b[0m\u001b[0;34m.\u001b[0m\u001b[0m_next_data\u001b[0m\u001b[0;34m(\u001b[0m\u001b[0;34m)\u001b[0m\u001b[0;34m\u001b[0m\u001b[0;34m\u001b[0m\u001b[0m\n\u001b[0m\u001b[1;32m    631\u001b[0m             \u001b[0mself\u001b[0m\u001b[0;34m.\u001b[0m\u001b[0m_num_yielded\u001b[0m \u001b[0;34m+=\u001b[0m \u001b[0;36m1\u001b[0m\u001b[0;34m\u001b[0m\u001b[0;34m\u001b[0m\u001b[0m\n\u001b[1;32m    632\u001b[0m             \u001b[0;32mif\u001b[0m \u001b[0mself\u001b[0m\u001b[0;34m.\u001b[0m\u001b[0m_dataset_kind\u001b[0m \u001b[0;34m==\u001b[0m \u001b[0m_DatasetKind\u001b[0m\u001b[0;34m.\u001b[0m\u001b[0mIterable\u001b[0m \u001b[0;32mand\u001b[0m\u001b[0;31m \u001b[0m\u001b[0;31m\\\u001b[0m\u001b[0;34m\u001b[0m\u001b[0;34m\u001b[0m\u001b[0m\n",
            "\u001b[0;32m/usr/local/lib/python3.10/dist-packages/torch/utils/data/dataloader.py\u001b[0m in \u001b[0;36m_next_data\u001b[0;34m(self)\u001b[0m\n\u001b[1;32m    671\u001b[0m     \u001b[0;32mdef\u001b[0m \u001b[0m_next_data\u001b[0m\u001b[0;34m(\u001b[0m\u001b[0mself\u001b[0m\u001b[0;34m)\u001b[0m\u001b[0;34m:\u001b[0m\u001b[0;34m\u001b[0m\u001b[0;34m\u001b[0m\u001b[0m\n\u001b[1;32m    672\u001b[0m         \u001b[0mindex\u001b[0m \u001b[0;34m=\u001b[0m \u001b[0mself\u001b[0m\u001b[0;34m.\u001b[0m\u001b[0m_next_index\u001b[0m\u001b[0;34m(\u001b[0m\u001b[0;34m)\u001b[0m  \u001b[0;31m# may raise StopIteration\u001b[0m\u001b[0;34m\u001b[0m\u001b[0;34m\u001b[0m\u001b[0m\n\u001b[0;32m--> 673\u001b[0;31m         \u001b[0mdata\u001b[0m \u001b[0;34m=\u001b[0m \u001b[0mself\u001b[0m\u001b[0;34m.\u001b[0m\u001b[0m_dataset_fetcher\u001b[0m\u001b[0;34m.\u001b[0m\u001b[0mfetch\u001b[0m\u001b[0;34m(\u001b[0m\u001b[0mindex\u001b[0m\u001b[0;34m)\u001b[0m  \u001b[0;31m# may raise StopIteration\u001b[0m\u001b[0;34m\u001b[0m\u001b[0;34m\u001b[0m\u001b[0m\n\u001b[0m\u001b[1;32m    674\u001b[0m         \u001b[0;32mif\u001b[0m \u001b[0mself\u001b[0m\u001b[0;34m.\u001b[0m\u001b[0m_pin_memory\u001b[0m\u001b[0;34m:\u001b[0m\u001b[0;34m\u001b[0m\u001b[0;34m\u001b[0m\u001b[0m\n\u001b[1;32m    675\u001b[0m             \u001b[0mdata\u001b[0m \u001b[0;34m=\u001b[0m \u001b[0m_utils\u001b[0m\u001b[0;34m.\u001b[0m\u001b[0mpin_memory\u001b[0m\u001b[0;34m.\u001b[0m\u001b[0mpin_memory\u001b[0m\u001b[0;34m(\u001b[0m\u001b[0mdata\u001b[0m\u001b[0;34m,\u001b[0m \u001b[0mself\u001b[0m\u001b[0;34m.\u001b[0m\u001b[0m_pin_memory_device\u001b[0m\u001b[0;34m)\u001b[0m\u001b[0;34m\u001b[0m\u001b[0;34m\u001b[0m\u001b[0m\n",
            "\u001b[0;32m/usr/local/lib/python3.10/dist-packages/torch/utils/data/_utils/fetch.py\u001b[0m in \u001b[0;36mfetch\u001b[0;34m(self, possibly_batched_index)\u001b[0m\n\u001b[1;32m     53\u001b[0m         \u001b[0;32melse\u001b[0m\u001b[0;34m:\u001b[0m\u001b[0;34m\u001b[0m\u001b[0;34m\u001b[0m\u001b[0m\n\u001b[1;32m     54\u001b[0m             \u001b[0mdata\u001b[0m \u001b[0;34m=\u001b[0m \u001b[0mself\u001b[0m\u001b[0;34m.\u001b[0m\u001b[0mdataset\u001b[0m\u001b[0;34m[\u001b[0m\u001b[0mpossibly_batched_index\u001b[0m\u001b[0;34m]\u001b[0m\u001b[0;34m\u001b[0m\u001b[0;34m\u001b[0m\u001b[0m\n\u001b[0;32m---> 55\u001b[0;31m         \u001b[0;32mreturn\u001b[0m \u001b[0mself\u001b[0m\u001b[0;34m.\u001b[0m\u001b[0mcollate_fn\u001b[0m\u001b[0;34m(\u001b[0m\u001b[0mdata\u001b[0m\u001b[0;34m)\u001b[0m\u001b[0;34m\u001b[0m\u001b[0;34m\u001b[0m\u001b[0m\n\u001b[0m",
            "\u001b[0;32m/usr/local/lib/python3.10/dist-packages/transformers/data/data_collator.py\u001b[0m in \u001b[0;36mdefault_data_collator\u001b[0;34m(features, return_tensors)\u001b[0m\n\u001b[1;32m     90\u001b[0m \u001b[0;34m\u001b[0m\u001b[0m\n\u001b[1;32m     91\u001b[0m     \u001b[0;32mif\u001b[0m \u001b[0mreturn_tensors\u001b[0m \u001b[0;34m==\u001b[0m \u001b[0;34m\"pt\"\u001b[0m\u001b[0;34m:\u001b[0m\u001b[0;34m\u001b[0m\u001b[0;34m\u001b[0m\u001b[0m\n\u001b[0;32m---> 92\u001b[0;31m         \u001b[0;32mreturn\u001b[0m \u001b[0mtorch_default_data_collator\u001b[0m\u001b[0;34m(\u001b[0m\u001b[0mfeatures\u001b[0m\u001b[0;34m)\u001b[0m\u001b[0;34m\u001b[0m\u001b[0;34m\u001b[0m\u001b[0m\n\u001b[0m\u001b[1;32m     93\u001b[0m     \u001b[0;32melif\u001b[0m \u001b[0mreturn_tensors\u001b[0m \u001b[0;34m==\u001b[0m \u001b[0;34m\"tf\"\u001b[0m\u001b[0;34m:\u001b[0m\u001b[0;34m\u001b[0m\u001b[0;34m\u001b[0m\u001b[0m\n\u001b[1;32m     94\u001b[0m         \u001b[0;32mreturn\u001b[0m \u001b[0mtf_default_data_collator\u001b[0m\u001b[0;34m(\u001b[0m\u001b[0mfeatures\u001b[0m\u001b[0;34m)\u001b[0m\u001b[0;34m\u001b[0m\u001b[0;34m\u001b[0m\u001b[0m\n",
            "\u001b[0;32m/usr/local/lib/python3.10/dist-packages/transformers/data/data_collator.py\u001b[0m in \u001b[0;36mtorch_default_data_collator\u001b[0;34m(features)\u001b[0m\n\u001b[1;32m    156\u001b[0m                 \u001b[0mbatch\u001b[0m\u001b[0;34m[\u001b[0m\u001b[0mk\u001b[0m\u001b[0;34m]\u001b[0m \u001b[0;34m=\u001b[0m \u001b[0mtorch\u001b[0m\u001b[0;34m.\u001b[0m\u001b[0mtensor\u001b[0m\u001b[0;34m(\u001b[0m\u001b[0mnp\u001b[0m\u001b[0;34m.\u001b[0m\u001b[0mstack\u001b[0m\u001b[0;34m(\u001b[0m\u001b[0;34m[\u001b[0m\u001b[0mf\u001b[0m\u001b[0;34m[\u001b[0m\u001b[0mk\u001b[0m\u001b[0;34m]\u001b[0m \u001b[0;32mfor\u001b[0m \u001b[0mf\u001b[0m \u001b[0;32min\u001b[0m \u001b[0mfeatures\u001b[0m\u001b[0;34m]\u001b[0m\u001b[0;34m)\u001b[0m\u001b[0;34m)\u001b[0m\u001b[0;34m\u001b[0m\u001b[0;34m\u001b[0m\u001b[0m\n\u001b[1;32m    157\u001b[0m             \u001b[0;32melse\u001b[0m\u001b[0;34m:\u001b[0m\u001b[0;34m\u001b[0m\u001b[0;34m\u001b[0m\u001b[0m\n\u001b[0;32m--> 158\u001b[0;31m                 \u001b[0mbatch\u001b[0m\u001b[0;34m[\u001b[0m\u001b[0mk\u001b[0m\u001b[0;34m]\u001b[0m \u001b[0;34m=\u001b[0m \u001b[0mtorch\u001b[0m\u001b[0;34m.\u001b[0m\u001b[0mtensor\u001b[0m\u001b[0;34m(\u001b[0m\u001b[0;34m[\u001b[0m\u001b[0mf\u001b[0m\u001b[0;34m[\u001b[0m\u001b[0mk\u001b[0m\u001b[0;34m]\u001b[0m \u001b[0;32mfor\u001b[0m \u001b[0mf\u001b[0m \u001b[0;32min\u001b[0m \u001b[0mfeatures\u001b[0m\u001b[0;34m]\u001b[0m\u001b[0;34m)\u001b[0m\u001b[0;34m\u001b[0m\u001b[0;34m\u001b[0m\u001b[0m\n\u001b[0m\u001b[1;32m    159\u001b[0m \u001b[0;34m\u001b[0m\u001b[0m\n\u001b[1;32m    160\u001b[0m     \u001b[0;32mreturn\u001b[0m \u001b[0mbatch\u001b[0m\u001b[0;34m\u001b[0m\u001b[0;34m\u001b[0m\u001b[0m\n",
            "\u001b[0;31mKeyboardInterrupt\u001b[0m: "
          ]
        }
      ],
      "source": [
        "# Cargar el modelo preentrenado para clasificación de secuencias\n",
        "model = Wav2Vec2ForSequenceClassification.from_pretrained(\n",
        "    \"facebook/wav2vec2-base\",\n",
        "    num_labels=len(label2id),\n",
        "    id2label=id2label,\n",
        "    label2id=label2id,\n",
        ")\n",
        "\n",
        "# Definir argumentos de entrenamiento\n",
        "training_args = TrainingArguments(\n",
        "    output_dir=\"./wav2vec2-accent-classification\",\n",
        "    evaluation_strategy=\"epoch\",\n",
        "    per_device_train_batch_size=16,\n",
        "    per_device_eval_batch_size=16,\n",
        "    num_train_epochs=3,\n",
        "    save_steps=500,\n",
        "    eval_steps=500,\n",
        "    logging_steps=100,\n",
        "    learning_rate=1e-4,\n",
        "    save_total_limit=2,\n",
        "    remove_unused_columns=False,\n",
        "    report_to=\"none\",  # No reporting to Weights & Biases, etc.\n",
        ")\n",
        "\n",
        "# Definir las funciones de evaluación\n",
        "def compute_metrics(pred):\n",
        "    labels = pred.label_ids\n",
        "    preds = pred.predictions.argmax(-1)\n",
        "    accuracy = np.sum(preds == labels) / len(labels)\n",
        "    return {\"accuracy\": accuracy}\n",
        "\n",
        "# Inicializar el Trainer\n",
        "trainer = Trainer(\n",
        "    model=model,\n",
        "    args=training_args,\n",
        "    train_dataset=dataset[\"train\"],\n",
        "    eval_dataset=dataset[\"valid\"],\n",
        "    tokenizer=processor,\n",
        "    compute_metrics=compute_metrics,\n",
        ")\n",
        "\n",
        "trainer.train()"
      ]
    },
    {
      "cell_type": "markdown",
      "metadata": {
        "id": "5b1wnj7aWQGv"
      },
      "source": [
        ".+ 5000 data: 0.92 accuracy, 0.18 validation and training loss"
      ]
    },
    {
      "cell_type": "markdown",
      "metadata": {
        "id": "vF-WjzHNi0AP"
      },
      "source": [
        "### Testing\n"
      ]
    },
    {
      "cell_type": "markdown",
      "metadata": {
        "id": "FrFA0cg1jFKi"
      },
      "source": [
        "Evaluation"
      ]
    },
    {
      "cell_type": "code",
      "execution_count": null,
      "metadata": {
        "id": "Fp_9F36D8N04"
      },
      "outputs": [],
      "source": [
        "results = trainer.evaluate(dataset[\"test\"])\n",
        "print(f\"Accuracy: {results['eval_accuracy']:.4f}\")\n"
      ]
    },
    {
      "cell_type": "markdown",
      "metadata": {
        "id": "4UQrravJjKWu"
      },
      "source": [
        "### Save model"
      ]
    },
    {
      "cell_type": "code",
      "execution_count": null,
      "metadata": {
        "colab": {
          "base_uri": "https://localhost:8080/"
        },
        "id": "YwB7bjxyJ15N",
        "outputId": "984afaa5-6506-4992-f7a5-bf608042d7f3"
      },
      "outputs": [
        {
          "data": {
            "text/plain": [
              "[]"
            ]
          },
          "execution_count": 23,
          "metadata": {},
          "output_type": "execute_result"
        }
      ],
      "source": [
        "model.save_pretrained(\"./model-wav2vec2-accent-classification\")\n",
        "processor.save_pretrained(\"./model-wav2vec2-accent-classification\")\n"
      ]
    },
    {
      "cell_type": "markdown",
      "metadata": {
        "id": "aciUFPpXjiec"
      },
      "source": [
        "### Load and make inference"
      ]
    },
    {
      "cell_type": "code",
      "source": [
        "# Mezclar (barajar) las filas del DataFrame\n",
        "shuffled_df = balanced_df.sample(frac=1, random_state=42).reset_index(drop=True)\n",
        "\n",
        "# Ver las primeras filas del DataFrame mezclado\n",
        "shuffled_df.head()\n"
      ],
      "metadata": {
        "colab": {
          "base_uri": "https://localhost:8080/",
          "height": 642
        },
        "id": "LiV1gGMoiRFH",
        "outputId": "ea344af0-b032-4a0c-cbfd-665318e29266"
      },
      "execution_count": 31,
      "outputs": [
        {
          "output_type": "execute_result",
          "data": {
            "text/plain": [
              "                                           client_id  \\\n",
              "0  344bf332f298134d3880f9e38710e4c7e7037157bd63a3...   \n",
              "1  27684391c8f6095629c2c12a88cb47055fa3abc33d53e3...   \n",
              "2  500d18a3257795d8ea82b3c39440f7656ecda7b29519f3...   \n",
              "3  2429806e5f5039a19ed9376741f82f6512e720f71bd07f...   \n",
              "4  4875a5fc17c3936321a179429a287bc6971775f7f8b5d2...   \n",
              "\n",
              "                                                path  \\\n",
              "0  /root/.cache/huggingface/datasets/downloads/ex...   \n",
              "1  /root/.cache/huggingface/datasets/downloads/ex...   \n",
              "2  /root/.cache/huggingface/datasets/downloads/ex...   \n",
              "3  /root/.cache/huggingface/datasets/downloads/ex...   \n",
              "4  /root/.cache/huggingface/datasets/downloads/ex...   \n",
              "\n",
              "                                               audio  \\\n",
              "0  {'bytes': None, 'path': '/root/.cache/huggingf...   \n",
              "1  {'bytes': None, 'path': '/root/.cache/huggingf...   \n",
              "2  {'bytes': None, 'path': '/root/.cache/huggingf...   \n",
              "3  {'bytes': None, 'path': '/root/.cache/huggingf...   \n",
              "4  {'bytes': None, 'path': '/root/.cache/huggingf...   \n",
              "\n",
              "                                            sentence  up_votes  down_votes  \\\n",
              "0                She also plays the guitar and lute.         2           0   \n",
              "1                   \"He's totally daft about birds.\"         2           0   \n",
              "2  The proceeds of the book benefited several cha...         3           0   \n",
              "3  The river is crossed by the Murray Valley High...         2           0   \n",
              "4  This car park is available for users of both M...         2           0   \n",
              "\n",
              "        age  gender   accent locale segment  \n",
              "0  twenties  female  england     en          \n",
              "1     teens  female       us     en          \n",
              "2  thirties  female       us     en          \n",
              "3  twenties    male  england     en          \n",
              "4   fifties  female       us     en          "
            ],
            "text/html": [
              "\n",
              "  <div id=\"df-a0667065-14f7-48e2-9e0c-4e73674b516c\" class=\"colab-df-container\">\n",
              "    <div>\n",
              "<style scoped>\n",
              "    .dataframe tbody tr th:only-of-type {\n",
              "        vertical-align: middle;\n",
              "    }\n",
              "\n",
              "    .dataframe tbody tr th {\n",
              "        vertical-align: top;\n",
              "    }\n",
              "\n",
              "    .dataframe thead th {\n",
              "        text-align: right;\n",
              "    }\n",
              "</style>\n",
              "<table border=\"1\" class=\"dataframe\">\n",
              "  <thead>\n",
              "    <tr style=\"text-align: right;\">\n",
              "      <th></th>\n",
              "      <th>client_id</th>\n",
              "      <th>path</th>\n",
              "      <th>audio</th>\n",
              "      <th>sentence</th>\n",
              "      <th>up_votes</th>\n",
              "      <th>down_votes</th>\n",
              "      <th>age</th>\n",
              "      <th>gender</th>\n",
              "      <th>accent</th>\n",
              "      <th>locale</th>\n",
              "      <th>segment</th>\n",
              "    </tr>\n",
              "  </thead>\n",
              "  <tbody>\n",
              "    <tr>\n",
              "      <th>0</th>\n",
              "      <td>344bf332f298134d3880f9e38710e4c7e7037157bd63a3...</td>\n",
              "      <td>/root/.cache/huggingface/datasets/downloads/ex...</td>\n",
              "      <td>{'bytes': None, 'path': '/root/.cache/huggingf...</td>\n",
              "      <td>She also plays the guitar and lute.</td>\n",
              "      <td>2</td>\n",
              "      <td>0</td>\n",
              "      <td>twenties</td>\n",
              "      <td>female</td>\n",
              "      <td>england</td>\n",
              "      <td>en</td>\n",
              "      <td></td>\n",
              "    </tr>\n",
              "    <tr>\n",
              "      <th>1</th>\n",
              "      <td>27684391c8f6095629c2c12a88cb47055fa3abc33d53e3...</td>\n",
              "      <td>/root/.cache/huggingface/datasets/downloads/ex...</td>\n",
              "      <td>{'bytes': None, 'path': '/root/.cache/huggingf...</td>\n",
              "      <td>\"He's totally daft about birds.\"</td>\n",
              "      <td>2</td>\n",
              "      <td>0</td>\n",
              "      <td>teens</td>\n",
              "      <td>female</td>\n",
              "      <td>us</td>\n",
              "      <td>en</td>\n",
              "      <td></td>\n",
              "    </tr>\n",
              "    <tr>\n",
              "      <th>2</th>\n",
              "      <td>500d18a3257795d8ea82b3c39440f7656ecda7b29519f3...</td>\n",
              "      <td>/root/.cache/huggingface/datasets/downloads/ex...</td>\n",
              "      <td>{'bytes': None, 'path': '/root/.cache/huggingf...</td>\n",
              "      <td>The proceeds of the book benefited several cha...</td>\n",
              "      <td>3</td>\n",
              "      <td>0</td>\n",
              "      <td>thirties</td>\n",
              "      <td>female</td>\n",
              "      <td>us</td>\n",
              "      <td>en</td>\n",
              "      <td></td>\n",
              "    </tr>\n",
              "    <tr>\n",
              "      <th>3</th>\n",
              "      <td>2429806e5f5039a19ed9376741f82f6512e720f71bd07f...</td>\n",
              "      <td>/root/.cache/huggingface/datasets/downloads/ex...</td>\n",
              "      <td>{'bytes': None, 'path': '/root/.cache/huggingf...</td>\n",
              "      <td>The river is crossed by the Murray Valley High...</td>\n",
              "      <td>2</td>\n",
              "      <td>0</td>\n",
              "      <td>twenties</td>\n",
              "      <td>male</td>\n",
              "      <td>england</td>\n",
              "      <td>en</td>\n",
              "      <td></td>\n",
              "    </tr>\n",
              "    <tr>\n",
              "      <th>4</th>\n",
              "      <td>4875a5fc17c3936321a179429a287bc6971775f7f8b5d2...</td>\n",
              "      <td>/root/.cache/huggingface/datasets/downloads/ex...</td>\n",
              "      <td>{'bytes': None, 'path': '/root/.cache/huggingf...</td>\n",
              "      <td>This car park is available for users of both M...</td>\n",
              "      <td>2</td>\n",
              "      <td>0</td>\n",
              "      <td>fifties</td>\n",
              "      <td>female</td>\n",
              "      <td>us</td>\n",
              "      <td>en</td>\n",
              "      <td></td>\n",
              "    </tr>\n",
              "  </tbody>\n",
              "</table>\n",
              "</div>\n",
              "    <div class=\"colab-df-buttons\">\n",
              "\n",
              "  <div class=\"colab-df-container\">\n",
              "    <button class=\"colab-df-convert\" onclick=\"convertToInteractive('df-a0667065-14f7-48e2-9e0c-4e73674b516c')\"\n",
              "            title=\"Convert this dataframe to an interactive table.\"\n",
              "            style=\"display:none;\">\n",
              "\n",
              "  <svg xmlns=\"http://www.w3.org/2000/svg\" height=\"24px\" viewBox=\"0 -960 960 960\">\n",
              "    <path d=\"M120-120v-720h720v720H120Zm60-500h600v-160H180v160Zm220 220h160v-160H400v160Zm0 220h160v-160H400v160ZM180-400h160v-160H180v160Zm440 0h160v-160H620v160ZM180-180h160v-160H180v160Zm440 0h160v-160H620v160Z\"/>\n",
              "  </svg>\n",
              "    </button>\n",
              "\n",
              "  <style>\n",
              "    .colab-df-container {\n",
              "      display:flex;\n",
              "      gap: 12px;\n",
              "    }\n",
              "\n",
              "    .colab-df-convert {\n",
              "      background-color: #E8F0FE;\n",
              "      border: none;\n",
              "      border-radius: 50%;\n",
              "      cursor: pointer;\n",
              "      display: none;\n",
              "      fill: #1967D2;\n",
              "      height: 32px;\n",
              "      padding: 0 0 0 0;\n",
              "      width: 32px;\n",
              "    }\n",
              "\n",
              "    .colab-df-convert:hover {\n",
              "      background-color: #E2EBFA;\n",
              "      box-shadow: 0px 1px 2px rgba(60, 64, 67, 0.3), 0px 1px 3px 1px rgba(60, 64, 67, 0.15);\n",
              "      fill: #174EA6;\n",
              "    }\n",
              "\n",
              "    .colab-df-buttons div {\n",
              "      margin-bottom: 4px;\n",
              "    }\n",
              "\n",
              "    [theme=dark] .colab-df-convert {\n",
              "      background-color: #3B4455;\n",
              "      fill: #D2E3FC;\n",
              "    }\n",
              "\n",
              "    [theme=dark] .colab-df-convert:hover {\n",
              "      background-color: #434B5C;\n",
              "      box-shadow: 0px 1px 3px 1px rgba(0, 0, 0, 0.15);\n",
              "      filter: drop-shadow(0px 1px 2px rgba(0, 0, 0, 0.3));\n",
              "      fill: #FFFFFF;\n",
              "    }\n",
              "  </style>\n",
              "\n",
              "    <script>\n",
              "      const buttonEl =\n",
              "        document.querySelector('#df-a0667065-14f7-48e2-9e0c-4e73674b516c button.colab-df-convert');\n",
              "      buttonEl.style.display =\n",
              "        google.colab.kernel.accessAllowed ? 'block' : 'none';\n",
              "\n",
              "      async function convertToInteractive(key) {\n",
              "        const element = document.querySelector('#df-a0667065-14f7-48e2-9e0c-4e73674b516c');\n",
              "        const dataTable =\n",
              "          await google.colab.kernel.invokeFunction('convertToInteractive',\n",
              "                                                    [key], {});\n",
              "        if (!dataTable) return;\n",
              "\n",
              "        const docLinkHtml = 'Like what you see? Visit the ' +\n",
              "          '<a target=\"_blank\" href=https://colab.research.google.com/notebooks/data_table.ipynb>data table notebook</a>'\n",
              "          + ' to learn more about interactive tables.';\n",
              "        element.innerHTML = '';\n",
              "        dataTable['output_type'] = 'display_data';\n",
              "        await google.colab.output.renderOutput(dataTable, element);\n",
              "        const docLink = document.createElement('div');\n",
              "        docLink.innerHTML = docLinkHtml;\n",
              "        element.appendChild(docLink);\n",
              "      }\n",
              "    </script>\n",
              "  </div>\n",
              "\n",
              "\n",
              "<div id=\"df-81fef29e-f73e-44af-9fba-e3de5737351d\">\n",
              "  <button class=\"colab-df-quickchart\" onclick=\"quickchart('df-81fef29e-f73e-44af-9fba-e3de5737351d')\"\n",
              "            title=\"Suggest charts\"\n",
              "            style=\"display:none;\">\n",
              "\n",
              "<svg xmlns=\"http://www.w3.org/2000/svg\" height=\"24px\"viewBox=\"0 0 24 24\"\n",
              "     width=\"24px\">\n",
              "    <g>\n",
              "        <path d=\"M19 3H5c-1.1 0-2 .9-2 2v14c0 1.1.9 2 2 2h14c1.1 0 2-.9 2-2V5c0-1.1-.9-2-2-2zM9 17H7v-7h2v7zm4 0h-2V7h2v10zm4 0h-2v-4h2v4z\"/>\n",
              "    </g>\n",
              "</svg>\n",
              "  </button>\n",
              "\n",
              "<style>\n",
              "  .colab-df-quickchart {\n",
              "      --bg-color: #E8F0FE;\n",
              "      --fill-color: #1967D2;\n",
              "      --hover-bg-color: #E2EBFA;\n",
              "      --hover-fill-color: #174EA6;\n",
              "      --disabled-fill-color: #AAA;\n",
              "      --disabled-bg-color: #DDD;\n",
              "  }\n",
              "\n",
              "  [theme=dark] .colab-df-quickchart {\n",
              "      --bg-color: #3B4455;\n",
              "      --fill-color: #D2E3FC;\n",
              "      --hover-bg-color: #434B5C;\n",
              "      --hover-fill-color: #FFFFFF;\n",
              "      --disabled-bg-color: #3B4455;\n",
              "      --disabled-fill-color: #666;\n",
              "  }\n",
              "\n",
              "  .colab-df-quickchart {\n",
              "    background-color: var(--bg-color);\n",
              "    border: none;\n",
              "    border-radius: 50%;\n",
              "    cursor: pointer;\n",
              "    display: none;\n",
              "    fill: var(--fill-color);\n",
              "    height: 32px;\n",
              "    padding: 0;\n",
              "    width: 32px;\n",
              "  }\n",
              "\n",
              "  .colab-df-quickchart:hover {\n",
              "    background-color: var(--hover-bg-color);\n",
              "    box-shadow: 0 1px 2px rgba(60, 64, 67, 0.3), 0 1px 3px 1px rgba(60, 64, 67, 0.15);\n",
              "    fill: var(--button-hover-fill-color);\n",
              "  }\n",
              "\n",
              "  .colab-df-quickchart-complete:disabled,\n",
              "  .colab-df-quickchart-complete:disabled:hover {\n",
              "    background-color: var(--disabled-bg-color);\n",
              "    fill: var(--disabled-fill-color);\n",
              "    box-shadow: none;\n",
              "  }\n",
              "\n",
              "  .colab-df-spinner {\n",
              "    border: 2px solid var(--fill-color);\n",
              "    border-color: transparent;\n",
              "    border-bottom-color: var(--fill-color);\n",
              "    animation:\n",
              "      spin 1s steps(1) infinite;\n",
              "  }\n",
              "\n",
              "  @keyframes spin {\n",
              "    0% {\n",
              "      border-color: transparent;\n",
              "      border-bottom-color: var(--fill-color);\n",
              "      border-left-color: var(--fill-color);\n",
              "    }\n",
              "    20% {\n",
              "      border-color: transparent;\n",
              "      border-left-color: var(--fill-color);\n",
              "      border-top-color: var(--fill-color);\n",
              "    }\n",
              "    30% {\n",
              "      border-color: transparent;\n",
              "      border-left-color: var(--fill-color);\n",
              "      border-top-color: var(--fill-color);\n",
              "      border-right-color: var(--fill-color);\n",
              "    }\n",
              "    40% {\n",
              "      border-color: transparent;\n",
              "      border-right-color: var(--fill-color);\n",
              "      border-top-color: var(--fill-color);\n",
              "    }\n",
              "    60% {\n",
              "      border-color: transparent;\n",
              "      border-right-color: var(--fill-color);\n",
              "    }\n",
              "    80% {\n",
              "      border-color: transparent;\n",
              "      border-right-color: var(--fill-color);\n",
              "      border-bottom-color: var(--fill-color);\n",
              "    }\n",
              "    90% {\n",
              "      border-color: transparent;\n",
              "      border-bottom-color: var(--fill-color);\n",
              "    }\n",
              "  }\n",
              "</style>\n",
              "\n",
              "  <script>\n",
              "    async function quickchart(key) {\n",
              "      const quickchartButtonEl =\n",
              "        document.querySelector('#' + key + ' button');\n",
              "      quickchartButtonEl.disabled = true;  // To prevent multiple clicks.\n",
              "      quickchartButtonEl.classList.add('colab-df-spinner');\n",
              "      try {\n",
              "        const charts = await google.colab.kernel.invokeFunction(\n",
              "            'suggestCharts', [key], {});\n",
              "      } catch (error) {\n",
              "        console.error('Error during call to suggestCharts:', error);\n",
              "      }\n",
              "      quickchartButtonEl.classList.remove('colab-df-spinner');\n",
              "      quickchartButtonEl.classList.add('colab-df-quickchart-complete');\n",
              "    }\n",
              "    (() => {\n",
              "      let quickchartButtonEl =\n",
              "        document.querySelector('#df-81fef29e-f73e-44af-9fba-e3de5737351d button');\n",
              "      quickchartButtonEl.style.display =\n",
              "        google.colab.kernel.accessAllowed ? 'block' : 'none';\n",
              "    })();\n",
              "  </script>\n",
              "</div>\n",
              "\n",
              "    </div>\n",
              "  </div>\n"
            ],
            "application/vnd.google.colaboratory.intrinsic+json": {
              "type": "dataframe",
              "variable_name": "shuffled_df",
              "summary": "{\n  \"name\": \"shuffled_df\",\n  \"rows\": 34520,\n  \"fields\": [\n    {\n      \"column\": \"client_id\",\n      \"properties\": {\n        \"dtype\": \"category\",\n        \"num_unique_values\": 2788,\n        \"samples\": [\n          \"628acedfa49296963e1b5a7518a84f0f6f667a04640e138933686acce4e5a7067dd2b59736ac40824aaef6bed2101b1934741b8f4af202f0c5c4a7877bb88222\",\n          \"cf064fca666d8c29414534d53845e14644730f44100a18f376b9d7aa1b48d8a44c9299dd29bbb7ae2244e28b27324fb8ab64bc5928715166bfbbdf5a2119b43a\",\n          \"da2dd850d48654e2fb8016a18e8c16ea9da6d8dbab18032d01988c38d88e62ba6ac0a09d55c22ca8b973ab1bcf9404afb60280e8840cc8bd3d2dfc06afb9fbde\"\n        ],\n        \"semantic_type\": \"\",\n        \"description\": \"\"\n      }\n    },\n    {\n      \"column\": \"path\",\n      \"properties\": {\n        \"dtype\": \"string\",\n        \"num_unique_values\": 34520,\n        \"samples\": [\n          \"/root/.cache/huggingface/datasets/downloads/extracted/94f3b8436ef31f38d666574752488116dcb7ac6c2aea31caa1fcab77ce6e098a/cv-corpus-6.1-2020-12-11/en/clips/common_voice_en_22264139.mp3\",\n          \"/root/.cache/huggingface/datasets/downloads/extracted/94f3b8436ef31f38d666574752488116dcb7ac6c2aea31caa1fcab77ce6e098a/cv-corpus-6.1-2020-12-11/en/clips/common_voice_en_18869113.mp3\",\n          \"/root/.cache/huggingface/datasets/downloads/extracted/94f3b8436ef31f38d666574752488116dcb7ac6c2aea31caa1fcab77ce6e098a/cv-corpus-6.1-2020-12-11/en/clips/common_voice_en_20975556.mp3\"\n        ],\n        \"semantic_type\": \"\",\n        \"description\": \"\"\n      }\n    },\n    {\n      \"column\": \"audio\",\n      \"properties\": {\n        \"dtype\": \"object\",\n        \"semantic_type\": \"\",\n        \"description\": \"\"\n      }\n    },\n    {\n      \"column\": \"sentence\",\n      \"properties\": {\n        \"dtype\": \"string\",\n        \"num_unique_values\": 34520,\n        \"samples\": [\n          \"Here, chickpea soup with bread and grain paste were common meals.\",\n          \"\\\"One of Willumstad's initiatives was to repair the rift with Greenberg.\\\"\",\n          \"Blackborne served as steward of both courts, as did several other barristers.\"\n        ],\n        \"semantic_type\": \"\",\n        \"description\": \"\"\n      }\n    },\n    {\n      \"column\": \"up_votes\",\n      \"properties\": {\n        \"dtype\": \"number\",\n        \"std\": 0,\n        \"min\": 2,\n        \"max\": 12,\n        \"num_unique_values\": 11,\n        \"samples\": [\n          10,\n          2,\n          11\n        ],\n        \"semantic_type\": \"\",\n        \"description\": \"\"\n      }\n    },\n    {\n      \"column\": \"down_votes\",\n      \"properties\": {\n        \"dtype\": \"number\",\n        \"std\": 0,\n        \"min\": 0,\n        \"max\": 4,\n        \"num_unique_values\": 5,\n        \"samples\": [\n          1,\n          4,\n          2\n        ],\n        \"semantic_type\": \"\",\n        \"description\": \"\"\n      }\n    },\n    {\n      \"column\": \"age\",\n      \"properties\": {\n        \"dtype\": \"category\",\n        \"num_unique_values\": 10,\n        \"samples\": [\n          \"nineties\",\n          \"teens\",\n          \"sixties\"\n        ],\n        \"semantic_type\": \"\",\n        \"description\": \"\"\n      }\n    },\n    {\n      \"column\": \"gender\",\n      \"properties\": {\n        \"dtype\": \"category\",\n        \"num_unique_values\": 2,\n        \"samples\": [\n          \"male\",\n          \"female\"\n        ],\n        \"semantic_type\": \"\",\n        \"description\": \"\"\n      }\n    },\n    {\n      \"column\": \"accent\",\n      \"properties\": {\n        \"dtype\": \"category\",\n        \"num_unique_values\": 2,\n        \"samples\": [\n          \"us\",\n          \"england\"\n        ],\n        \"semantic_type\": \"\",\n        \"description\": \"\"\n      }\n    },\n    {\n      \"column\": \"locale\",\n      \"properties\": {\n        \"dtype\": \"category\",\n        \"num_unique_values\": 1,\n        \"samples\": [\n          \"en\"\n        ],\n        \"semantic_type\": \"\",\n        \"description\": \"\"\n      }\n    },\n    {\n      \"column\": \"segment\",\n      \"properties\": {\n        \"dtype\": \"object\",\n        \"num_unique_values\": 1,\n        \"samples\": [\n          \"\"\n        ],\n        \"semantic_type\": \"\",\n        \"description\": \"\"\n      }\n    }\n  ]\n}"
            }
          },
          "metadata": {},
          "execution_count": 31
        }
      ]
    },
    {
      "cell_type": "code",
      "source": [
        "expected_accent = shuffled_df['accent'][1]\n",
        "sentence = shuffled_df['sentence'][1]\n",
        "expected_accent"
      ],
      "metadata": {
        "colab": {
          "base_uri": "https://localhost:8080/",
          "height": 36
        },
        "id": "mdZIIMTyjDRf",
        "outputId": "23e5402c-1023-4dd6-e10d-50cf625edb9c"
      },
      "execution_count": 64,
      "outputs": [
        {
          "output_type": "execute_result",
          "data": {
            "text/plain": [
              "'us'"
            ],
            "application/vnd.google.colaboratory.intrinsic+json": {
              "type": "string"
            }
          },
          "metadata": {},
          "execution_count": 64
        }
      ]
    },
    {
      "cell_type": "code",
      "execution_count": 66,
      "metadata": {
        "colab": {
          "base_uri": "https://localhost:8080/"
        },
        "id": "Xc61dQ8Sjj5L",
        "outputId": "c529c552-8279-4b3b-ade9-c04a07f02590"
      },
      "outputs": [
        {
          "output_type": "stream",
          "name": "stdout",
          "text": [
            "The predicted accent is: england\n"
          ]
        }
      ],
      "source": [
        "import torch\n",
        "from transformers import Wav2Vec2ForSequenceClassification, Wav2Vec2Processor\n",
        "import torchaudio\n",
        "\n",
        "model = Wav2Vec2ForSequenceClassification.from_pretrained(\"./model-wav2vec2-accent-classification\")\n",
        "processor = Wav2Vec2Processor.from_pretrained(\"./model-wav2vec2-accent-classification\")\n",
        "\n",
        "# Mover el modelo a la GPU si está disponible, de lo contrario usar la CPU\n",
        "device = torch.device(\"cuda\" if torch.cuda.is_available() else \"cpu\")\n",
        "model.to(device)\n",
        "\n",
        "# Ruta al nuevo archivo de audio\n",
        "audio_path = shuffled_df['path'][1]\n",
        "\n",
        "# Preprocesar el nuevo audio\n",
        "def preprocess_audio(audio_path):\n",
        "    waveform, sample_rate = torchaudio.load(audio_path)\n",
        "\n",
        "    if sample_rate != processor.feature_extractor.sampling_rate:\n",
        "        resampler = torchaudio.transforms.Resample(sample_rate, processor.feature_extractor.sampling_rate)\n",
        "        waveform = resampler(waveform)\n",
        "\n",
        "    max_length = int(processor.feature_extractor.sampling_rate * 10)  # Ejemplo: 8 segundos\n",
        "    inputs = processor(waveform.squeeze().numpy(),\n",
        "                       sampling_rate=processor.feature_extractor.sampling_rate,\n",
        "                       return_tensors=\"pt\",\n",
        "                       padding=\"max_length\",\n",
        "                       truncation=True,\n",
        "                       max_length=max_length)\n",
        "\n",
        "    return inputs\n",
        "\n",
        "# Preprocesar el nuevo audio\n",
        "inputs = preprocess_audio(audio_path)\n",
        "\n",
        "# Mover los inputs al mismo dispositivo que el modelo\n",
        "inputs = {k: v.to(device) for k, v in inputs.items()}\n",
        "\n",
        "# Hacer predicciones\n",
        "model.eval()\n",
        "with torch.no_grad():\n",
        "    outputs = model(**inputs)\n",
        "    logits = outputs.logits\n",
        "    predicted_class_id = torch.argmax(logits, dim=-1).item()\n",
        "\n",
        "# Mapear la clase predicha al nombre del acento\n",
        "id2label = {0: 'us', 1: 'england'}\n",
        "predicted_accent = id2label[predicted_class_id]\n",
        "\n",
        "print(f\"The predicted accent is: {predicted_accent}\")\n"
      ]
    },
    {
      "cell_type": "code",
      "source": [
        "from IPython.display import Audio\n",
        "\n",
        "# Ruta del archivo de audio en la primera fila del dataframe balanceado\n",
        "audio_path = shuffled_df['path'][1]\n",
        "\n",
        "# Reproducir el archivo de audio\n",
        "Audio(audio_path)\n"
      ],
      "metadata": {
        "colab": {
          "base_uri": "https://localhost:8080/",
          "height": 75
        },
        "id": "Tdju0y-lidcy",
        "outputId": "916ebfa1-a85d-4e28-de81-fa4719c97075"
      },
      "execution_count": 77,
      "outputs": [
        {
          "output_type": "execute_result",
          "data": {
            "text/plain": [
              "<IPython.lib.display.Audio object>"
            ],
            "text/html": [
              "\n",
              "                <audio  controls=\"controls\" >\n",
              "                    <source src=\"data:audio/mpeg;base64,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\" type=\"audio/mpeg\" />\n",
              "                    Your browser does not support the audio element.\n",
              "                </audio>\n",
              "              "
            ]
          },
          "metadata": {},
          "execution_count": 77
        }
      ]
    }
  ],
  "metadata": {
    "accelerator": "GPU",
    "colab": {
      "gpuType": "A100",
      "machine_shape": "hm",
      "provenance": []
    },
    "kernelspec": {
      "display_name": "Python 3",
      "name": "python3"
    },
    "language_info": {
      "name": "python"
    },
    "widgets": {
      "application/vnd.jupyter.widget-state+json": {
        "ff655ab909794d659e5f3f60fcd47320": {
          "model_module": "@jupyter-widgets/controls",
          "model_name": "VBoxModel",
          "model_module_version": "1.5.0",
          "state": {
            "_dom_classes": [],
            "_model_module": "@jupyter-widgets/controls",
            "_model_module_version": "1.5.0",
            "_model_name": "VBoxModel",
            "_view_count": null,
            "_view_module": "@jupyter-widgets/controls",
            "_view_module_version": "1.5.0",
            "_view_name": "VBoxView",
            "box_style": "",
            "children": [
              "IPY_MODEL_1c211cb5c71c4c21b3a9145c8f87d59b",
              "IPY_MODEL_c5da83a807b849158f4ff38e83ae97a6",
              "IPY_MODEL_27d6604ee9874879a32ecc05d606615c",
              "IPY_MODEL_fd5d49a38b004186964a34dfc2e86cad",
              "IPY_MODEL_1c9ecd1e7bd8418ba0e779a98816f9ef"
            ],
            "layout": "IPY_MODEL_633c77aa5f714e3287259454a24b089c"
          }
        },
        "1c211cb5c71c4c21b3a9145c8f87d59b": {
          "model_module": "@jupyter-widgets/controls",
          "model_name": "HTMLModel",
          "model_module_version": "1.5.0",
          "state": {
            "_dom_classes": [],
            "_model_module": "@jupyter-widgets/controls",
            "_model_module_version": "1.5.0",
            "_model_name": "HTMLModel",
            "_view_count": null,
            "_view_module": "@jupyter-widgets/controls",
            "_view_module_version": "1.5.0",
            "_view_name": "HTMLView",
            "description": "",
            "description_tooltip": null,
            "layout": "IPY_MODEL_8eda476054aa467b922bdb97841ea32d",
            "placeholder": "​",
            "style": "IPY_MODEL_152f44395d0b4c699b59ea8a97f2ba57",
            "value": "<center> <img\nsrc=https://huggingface.co/front/assets/huggingface_logo-noborder.svg\nalt='Hugging Face'> <br> Copy a token from <a\nhref=\"https://huggingface.co/settings/tokens\" target=\"_blank\">your Hugging Face\ntokens page</a> and paste it below. <br> Immediately click login after copying\nyour token or it might be stored in plain text in this notebook file. </center>"
          }
        },
        "c5da83a807b849158f4ff38e83ae97a6": {
          "model_module": "@jupyter-widgets/controls",
          "model_name": "PasswordModel",
          "model_module_version": "1.5.0",
          "state": {
            "_dom_classes": [],
            "_model_module": "@jupyter-widgets/controls",
            "_model_module_version": "1.5.0",
            "_model_name": "PasswordModel",
            "_view_count": null,
            "_view_module": "@jupyter-widgets/controls",
            "_view_module_version": "1.5.0",
            "_view_name": "PasswordView",
            "continuous_update": true,
            "description": "Token:",
            "description_tooltip": null,
            "disabled": false,
            "layout": "IPY_MODEL_f15467cd76d54a6c9f241b1d63accf15",
            "placeholder": "​",
            "style": "IPY_MODEL_24e6fc8364d84e0eaeb02dc3c14131a8",
            "value": ""
          }
        },
        "27d6604ee9874879a32ecc05d606615c": {
          "model_module": "@jupyter-widgets/controls",
          "model_name": "CheckboxModel",
          "model_module_version": "1.5.0",
          "state": {
            "_dom_classes": [],
            "_model_module": "@jupyter-widgets/controls",
            "_model_module_version": "1.5.0",
            "_model_name": "CheckboxModel",
            "_view_count": null,
            "_view_module": "@jupyter-widgets/controls",
            "_view_module_version": "1.5.0",
            "_view_name": "CheckboxView",
            "description": "Add token as git credential?",
            "description_tooltip": null,
            "disabled": false,
            "indent": true,
            "layout": "IPY_MODEL_a624daf7ebaa408082f8b2310f5ab213",
            "style": "IPY_MODEL_ac1e82a25fed42199dc7277fa972d4fe",
            "value": true
          }
        },
        "fd5d49a38b004186964a34dfc2e86cad": {
          "model_module": "@jupyter-widgets/controls",
          "model_name": "ButtonModel",
          "model_module_version": "1.5.0",
          "state": {
            "_dom_classes": [],
            "_model_module": "@jupyter-widgets/controls",
            "_model_module_version": "1.5.0",
            "_model_name": "ButtonModel",
            "_view_count": null,
            "_view_module": "@jupyter-widgets/controls",
            "_view_module_version": "1.5.0",
            "_view_name": "ButtonView",
            "button_style": "",
            "description": "Login",
            "disabled": false,
            "icon": "",
            "layout": "IPY_MODEL_6dbdb42ca7de41e28dba55b1051412e4",
            "style": "IPY_MODEL_6d021126190c42f2bba8c54d5ab0be34",
            "tooltip": ""
          }
        },
        "1c9ecd1e7bd8418ba0e779a98816f9ef": {
          "model_module": "@jupyter-widgets/controls",
          "model_name": "HTMLModel",
          "model_module_version": "1.5.0",
          "state": {
            "_dom_classes": [],
            "_model_module": "@jupyter-widgets/controls",
            "_model_module_version": "1.5.0",
            "_model_name": "HTMLModel",
            "_view_count": null,
            "_view_module": "@jupyter-widgets/controls",
            "_view_module_version": "1.5.0",
            "_view_name": "HTMLView",
            "description": "",
            "description_tooltip": null,
            "layout": "IPY_MODEL_bdfa1499122a475f984333d99d2c2afa",
            "placeholder": "​",
            "style": "IPY_MODEL_09e95a261a324574a3faf43868cdedb0",
            "value": "\n<b>Pro Tip:</b> If you don't already have one, you can create a dedicated\n'notebooks' token with 'write' access, that you can then easily reuse for all\nnotebooks. </center>"
          }
        },
        "633c77aa5f714e3287259454a24b089c": {
          "model_module": "@jupyter-widgets/base",
          "model_name": "LayoutModel",
          "model_module_version": "1.2.0",
          "state": {
            "_model_module": "@jupyter-widgets/base",
            "_model_module_version": "1.2.0",
            "_model_name": "LayoutModel",
            "_view_count": null,
            "_view_module": "@jupyter-widgets/base",
            "_view_module_version": "1.2.0",
            "_view_name": "LayoutView",
            "align_content": null,
            "align_items": "center",
            "align_self": null,
            "border": null,
            "bottom": null,
            "display": "flex",
            "flex": null,
            "flex_flow": "column",
            "grid_area": null,
            "grid_auto_columns": null,
            "grid_auto_flow": null,
            "grid_auto_rows": null,
            "grid_column": null,
            "grid_gap": null,
            "grid_row": null,
            "grid_template_areas": null,
            "grid_template_columns": null,
            "grid_template_rows": null,
            "height": null,
            "justify_content": null,
            "justify_items": null,
            "left": null,
            "margin": null,
            "max_height": null,
            "max_width": null,
            "min_height": null,
            "min_width": null,
            "object_fit": null,
            "object_position": null,
            "order": null,
            "overflow": null,
            "overflow_x": null,
            "overflow_y": null,
            "padding": null,
            "right": null,
            "top": null,
            "visibility": null,
            "width": "50%"
          }
        },
        "8eda476054aa467b922bdb97841ea32d": {
          "model_module": "@jupyter-widgets/base",
          "model_name": "LayoutModel",
          "model_module_version": "1.2.0",
          "state": {
            "_model_module": "@jupyter-widgets/base",
            "_model_module_version": "1.2.0",
            "_model_name": "LayoutModel",
            "_view_count": null,
            "_view_module": "@jupyter-widgets/base",
            "_view_module_version": "1.2.0",
            "_view_name": "LayoutView",
            "align_content": null,
            "align_items": null,
            "align_self": null,
            "border": null,
            "bottom": null,
            "display": null,
            "flex": null,
            "flex_flow": null,
            "grid_area": null,
            "grid_auto_columns": null,
            "grid_auto_flow": null,
            "grid_auto_rows": null,
            "grid_column": null,
            "grid_gap": null,
            "grid_row": null,
            "grid_template_areas": null,
            "grid_template_columns": null,
            "grid_template_rows": null,
            "height": null,
            "justify_content": null,
            "justify_items": null,
            "left": null,
            "margin": null,
            "max_height": null,
            "max_width": null,
            "min_height": null,
            "min_width": null,
            "object_fit": null,
            "object_position": null,
            "order": null,
            "overflow": null,
            "overflow_x": null,
            "overflow_y": null,
            "padding": null,
            "right": null,
            "top": null,
            "visibility": null,
            "width": null
          }
        },
        "152f44395d0b4c699b59ea8a97f2ba57": {
          "model_module": "@jupyter-widgets/controls",
          "model_name": "DescriptionStyleModel",
          "model_module_version": "1.5.0",
          "state": {
            "_model_module": "@jupyter-widgets/controls",
            "_model_module_version": "1.5.0",
            "_model_name": "DescriptionStyleModel",
            "_view_count": null,
            "_view_module": "@jupyter-widgets/base",
            "_view_module_version": "1.2.0",
            "_view_name": "StyleView",
            "description_width": ""
          }
        },
        "f15467cd76d54a6c9f241b1d63accf15": {
          "model_module": "@jupyter-widgets/base",
          "model_name": "LayoutModel",
          "model_module_version": "1.2.0",
          "state": {
            "_model_module": "@jupyter-widgets/base",
            "_model_module_version": "1.2.0",
            "_model_name": "LayoutModel",
            "_view_count": null,
            "_view_module": "@jupyter-widgets/base",
            "_view_module_version": "1.2.0",
            "_view_name": "LayoutView",
            "align_content": null,
            "align_items": null,
            "align_self": null,
            "border": null,
            "bottom": null,
            "display": null,
            "flex": null,
            "flex_flow": null,
            "grid_area": null,
            "grid_auto_columns": null,
            "grid_auto_flow": null,
            "grid_auto_rows": null,
            "grid_column": null,
            "grid_gap": null,
            "grid_row": null,
            "grid_template_areas": null,
            "grid_template_columns": null,
            "grid_template_rows": null,
            "height": null,
            "justify_content": null,
            "justify_items": null,
            "left": null,
            "margin": null,
            "max_height": null,
            "max_width": null,
            "min_height": null,
            "min_width": null,
            "object_fit": null,
            "object_position": null,
            "order": null,
            "overflow": null,
            "overflow_x": null,
            "overflow_y": null,
            "padding": null,
            "right": null,
            "top": null,
            "visibility": null,
            "width": null
          }
        },
        "24e6fc8364d84e0eaeb02dc3c14131a8": {
          "model_module": "@jupyter-widgets/controls",
          "model_name": "DescriptionStyleModel",
          "model_module_version": "1.5.0",
          "state": {
            "_model_module": "@jupyter-widgets/controls",
            "_model_module_version": "1.5.0",
            "_model_name": "DescriptionStyleModel",
            "_view_count": null,
            "_view_module": "@jupyter-widgets/base",
            "_view_module_version": "1.2.0",
            "_view_name": "StyleView",
            "description_width": ""
          }
        },
        "a624daf7ebaa408082f8b2310f5ab213": {
          "model_module": "@jupyter-widgets/base",
          "model_name": "LayoutModel",
          "model_module_version": "1.2.0",
          "state": {
            "_model_module": "@jupyter-widgets/base",
            "_model_module_version": "1.2.0",
            "_model_name": "LayoutModel",
            "_view_count": null,
            "_view_module": "@jupyter-widgets/base",
            "_view_module_version": "1.2.0",
            "_view_name": "LayoutView",
            "align_content": null,
            "align_items": null,
            "align_self": null,
            "border": null,
            "bottom": null,
            "display": null,
            "flex": null,
            "flex_flow": null,
            "grid_area": null,
            "grid_auto_columns": null,
            "grid_auto_flow": null,
            "grid_auto_rows": null,
            "grid_column": null,
            "grid_gap": null,
            "grid_row": null,
            "grid_template_areas": null,
            "grid_template_columns": null,
            "grid_template_rows": null,
            "height": null,
            "justify_content": null,
            "justify_items": null,
            "left": null,
            "margin": null,
            "max_height": null,
            "max_width": null,
            "min_height": null,
            "min_width": null,
            "object_fit": null,
            "object_position": null,
            "order": null,
            "overflow": null,
            "overflow_x": null,
            "overflow_y": null,
            "padding": null,
            "right": null,
            "top": null,
            "visibility": null,
            "width": null
          }
        },
        "ac1e82a25fed42199dc7277fa972d4fe": {
          "model_module": "@jupyter-widgets/controls",
          "model_name": "DescriptionStyleModel",
          "model_module_version": "1.5.0",
          "state": {
            "_model_module": "@jupyter-widgets/controls",
            "_model_module_version": "1.5.0",
            "_model_name": "DescriptionStyleModel",
            "_view_count": null,
            "_view_module": "@jupyter-widgets/base",
            "_view_module_version": "1.2.0",
            "_view_name": "StyleView",
            "description_width": ""
          }
        },
        "6dbdb42ca7de41e28dba55b1051412e4": {
          "model_module": "@jupyter-widgets/base",
          "model_name": "LayoutModel",
          "model_module_version": "1.2.0",
          "state": {
            "_model_module": "@jupyter-widgets/base",
            "_model_module_version": "1.2.0",
            "_model_name": "LayoutModel",
            "_view_count": null,
            "_view_module": "@jupyter-widgets/base",
            "_view_module_version": "1.2.0",
            "_view_name": "LayoutView",
            "align_content": null,
            "align_items": null,
            "align_self": null,
            "border": null,
            "bottom": null,
            "display": null,
            "flex": null,
            "flex_flow": null,
            "grid_area": null,
            "grid_auto_columns": null,
            "grid_auto_flow": null,
            "grid_auto_rows": null,
            "grid_column": null,
            "grid_gap": null,
            "grid_row": null,
            "grid_template_areas": null,
            "grid_template_columns": null,
            "grid_template_rows": null,
            "height": null,
            "justify_content": null,
            "justify_items": null,
            "left": null,
            "margin": null,
            "max_height": null,
            "max_width": null,
            "min_height": null,
            "min_width": null,
            "object_fit": null,
            "object_position": null,
            "order": null,
            "overflow": null,
            "overflow_x": null,
            "overflow_y": null,
            "padding": null,
            "right": null,
            "top": null,
            "visibility": null,
            "width": null
          }
        },
        "6d021126190c42f2bba8c54d5ab0be34": {
          "model_module": "@jupyter-widgets/controls",
          "model_name": "ButtonStyleModel",
          "model_module_version": "1.5.0",
          "state": {
            "_model_module": "@jupyter-widgets/controls",
            "_model_module_version": "1.5.0",
            "_model_name": "ButtonStyleModel",
            "_view_count": null,
            "_view_module": "@jupyter-widgets/base",
            "_view_module_version": "1.2.0",
            "_view_name": "StyleView",
            "button_color": null,
            "font_weight": ""
          }
        },
        "bdfa1499122a475f984333d99d2c2afa": {
          "model_module": "@jupyter-widgets/base",
          "model_name": "LayoutModel",
          "model_module_version": "1.2.0",
          "state": {
            "_model_module": "@jupyter-widgets/base",
            "_model_module_version": "1.2.0",
            "_model_name": "LayoutModel",
            "_view_count": null,
            "_view_module": "@jupyter-widgets/base",
            "_view_module_version": "1.2.0",
            "_view_name": "LayoutView",
            "align_content": null,
            "align_items": null,
            "align_self": null,
            "border": null,
            "bottom": null,
            "display": null,
            "flex": null,
            "flex_flow": null,
            "grid_area": null,
            "grid_auto_columns": null,
            "grid_auto_flow": null,
            "grid_auto_rows": null,
            "grid_column": null,
            "grid_gap": null,
            "grid_row": null,
            "grid_template_areas": null,
            "grid_template_columns": null,
            "grid_template_rows": null,
            "height": null,
            "justify_content": null,
            "justify_items": null,
            "left": null,
            "margin": null,
            "max_height": null,
            "max_width": null,
            "min_height": null,
            "min_width": null,
            "object_fit": null,
            "object_position": null,
            "order": null,
            "overflow": null,
            "overflow_x": null,
            "overflow_y": null,
            "padding": null,
            "right": null,
            "top": null,
            "visibility": null,
            "width": null
          }
        },
        "09e95a261a324574a3faf43868cdedb0": {
          "model_module": "@jupyter-widgets/controls",
          "model_name": "DescriptionStyleModel",
          "model_module_version": "1.5.0",
          "state": {
            "_model_module": "@jupyter-widgets/controls",
            "_model_module_version": "1.5.0",
            "_model_name": "DescriptionStyleModel",
            "_view_count": null,
            "_view_module": "@jupyter-widgets/base",
            "_view_module_version": "1.2.0",
            "_view_name": "StyleView",
            "description_width": ""
          }
        }
      }
    }
  },
  "nbformat": 4,
  "nbformat_minor": 0
}